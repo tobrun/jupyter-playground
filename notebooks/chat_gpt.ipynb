{
 "cells": [
  {
   "attachments": {},
   "cell_type": "markdown",
   "metadata": {},
   "source": [
    "# Initialize environement\n",
    "\n",
    "Load [IPython ChatGPT extension](https://github.com/santiagobasulto/ipython-gpt) in notebook env."
   ]
  },
  {
   "cell_type": "code",
   "execution_count": 31,
   "metadata": {},
   "outputs": [
    {
     "name": "stdout",
     "output_type": "stream",
     "text": [
      "The ipython_gpt extension is already loaded. To reload it, use:\n",
      "  %reload_ext ipython_gpt\n"
     ]
    }
   ],
   "source": [
    "%load_ext ipython_gpt"
   ]
  },
  {
   "attachments": {},
   "cell_type": "markdown",
   "metadata": {},
   "source": [
    "# Get code \n",
    "Ask GPT for some python code."
   ]
  },
  {
   "cell_type": "code",
   "execution_count": 32,
   "metadata": {},
   "outputs": [
    {
     "data": {
      "text/markdown": [
       "<div style='width:60%;margin-left:5%;overflow: scroll;max-height:500px'>\n",
       "\n",
       "Here is the Python code for printing out \"Hello, world!\":\n",
       "\n",
       "```python\n",
       "print(\"Hello, world!\")\n",
       "```\n",
       "\n",
       "When you run this code, it should output \"Hello, world!\" to the console.\n",
       "\n",
       "</div>"
      ],
      "text/plain": [
       "<IPython.core.display.Markdown object>"
      ]
     },
     "metadata": {},
     "output_type": "display_data"
    }
   ],
   "source": [
    "%%chat --reset-conversation \n",
    "Python code for printing out hello world."
   ]
  },
  {
   "attachments": {},
   "cell_type": "markdown",
   "metadata": {},
   "source": [
    "# Paste code \n",
    "Copy code, paste in cell and run."
   ]
  },
  {
   "cell_type": "code",
   "execution_count": 33,
   "metadata": {},
   "outputs": [
    {
     "name": "stdout",
     "output_type": "stream",
     "text": [
      "Hello, World!\n"
     ]
    }
   ],
   "source": [
    "print(\"Hello, World!\")"
   ]
  }
 ],
 "metadata": {
  "kernelspec": {
   "display_name": "Python 3",
   "language": "python",
   "name": "python3"
  },
  "language_info": {
   "codemirror_mode": {
    "name": "ipython",
    "version": 3
   },
   "file_extension": ".py",
   "mimetype": "text/x-python",
   "name": "python",
   "nbconvert_exporter": "python",
   "pygments_lexer": "ipython3",
   "version": "3.10.6"
  },
  "orig_nbformat": 4
 },
 "nbformat": 4,
 "nbformat_minor": 2
}
