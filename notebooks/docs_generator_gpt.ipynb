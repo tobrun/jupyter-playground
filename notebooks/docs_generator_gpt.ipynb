{
 "cells": [
  {
   "cell_type": "code",
   "execution_count": 8,
   "metadata": {},
   "outputs": [
    {
     "name": "stdout",
     "output_type": "stream",
     "text": [
      "The ipython_gpt extension is already loaded. To reload it, use:\n",
      "  %reload_ext ipython_gpt\n"
     ]
    }
   ],
   "source": [
    "%load_ext ipython_gpt"
   ]
  },
  {
   "cell_type": "code",
   "execution_count": 9,
   "metadata": {},
   "outputs": [
    {
     "data": {
      "text/markdown": [
       "<div style='width:60%;margin-left:5%;overflow: scroll;max-height:500px'>\n",
       "\n",
       "\n",
       "##### Conf set:\n",
       "\n",
       "* **Default model**: gpt-3.5-turbo\n",
       "* **Default system message**: You're a software documentation writer. Based on example code, you write tutorials.\n",
       "* **Chat history length**: 0\n",
       "\n",
       "\n",
       "</div>"
      ],
      "text/plain": [
       "<IPython.core.display.Markdown object>"
      ]
     },
     "metadata": {},
     "output_type": "display_data"
    }
   ],
   "source": [
    "%chat_config --reset-conversation --system-message=\"You're a software documentation writer. Based on example code, you write tutorials.\"\n"
   ]
  },
  {
   "cell_type": "code",
   "execution_count": 13,
   "metadata": {},
   "outputs": [
    {
     "data": {
      "text/markdown": [
       "<div style='width:60%;margin-left:5%;overflow: scroll;max-height:500px'>\n",
       "\n",
       "# Displaying a Map as a 3D Globe with Mapbox Maps SDK for Android\n",
       "\n",
       "In this tutorial, we will be using the Mapbox Maps SDK for Android to display a map as a 3D globe using the DSL [projection] in Kotlin. We will also add atmosphere effects and the starry sky to enhance the visual effect.\n",
       "\n",
       "## Prerequisites\n",
       "\n",
       "Before getting started, ensure that you have completed the following:\n",
       "\n",
       "- Configured a Mapbox account and created an access token.\n",
       "- Configured a new Android project with the Mapbox Maps SDK for Android.\n",
       "\n",
       "## Displaying a Map as a 3D Globe\n",
       "\n",
       "Follow the steps below to display the map as a 3D globe:\n",
       "\n",
       "1. Create a new `GlobeActivity.kt` file as the Activity for the globe projection map. \n",
       "\n",
       "2. Create a new `MapView` instance and set the activity's content view to this MapView, using the following code:\n",
       "\n",
       "```kotlin\n",
       "  override fun onCreate(savedInstanceState: Bundle?) {\n",
       "      super.onCreate(savedInstanceState)\n",
       "      val mapView = MapView(this)\n",
       "      setContentView(mapView)\n",
       "      ...\n",
       "  }\n",
       "```\n",
       "\n",
       "3. Set the camera position for the MapView using the `setCamera()` method:\n",
       "\n",
       "```kotlin\n",
       "      setCamera(\n",
       "        cameraOptions {\n",
       "          center(CENTER)\n",
       "          zoom(ZOOM)\n",
       "        }\n",
       "      )\n",
       "```\n",
       "\n",
       "Here, we center the camera on a specific point by passing a `Point` object to `center()`, and set the zoom level using the `zoom()` function.\n",
       "\n",
       "4. Load the map style using the `loadStyle()` method, while adding the [projection] DSL and the [atmosphere] DSL:\n",
       "\n",
       "```kotlin\n",
       "      loadStyle(\n",
       "        style(Style.SATELLITE_STREETS) {\n",
       "          +atmosphere { }\n",
       "          +projection(ProjectionName.GLOBE)\n",
       "        }\n",
       "      )\n",
       "```\n",
       "\n",
       "Here, the style is set to `Style.SATELLITE_STREETS`, which combines aerial imagery with streets, and the [atmosphere] effect is added to create the starry sky. Additionally, the [projection] DSL is used to set the map projection to \"globe\".\n",
       "\n",
       "5. Run your application and you will see a Mapbox map displayed as a 3D globe with the starry sky and atmosphere effects.\n",
       "\n",
       "6. Modify values for constants as desired.\n",
       "\n",
       "```kotlin\n",
       "  private const val ZOOM = 0.45\n",
       "  private val CENTER = Point.fromLngLat(30.0, 50.0)\n",
       "```\n",
       "\n",
       "Congratulations! You have now successfully displayed a Mapbox map as a 3D globe using the Mapbox Maps SDK for Android.\n",
       "\n",
       "</div>"
      ],
      "text/plain": [
       "<IPython.core.display.Markdown object>"
      ]
     },
     "metadata": {},
     "output_type": "display_data"
    }
   ],
   "source": [
    "%%chat \n",
    "write me a tutorial based on the example kotlin code below for the Mapbox Maps SDK for Android. Put the output in a markdown code block. \n",
    "\n",
    "/**\n",
    " * This example uses the Style DSL [projection] to display the map as a 3D globe instead of the default Mercator projection.\n",
    " * A starry sky and atmosphere effects are added with Style DSL [atmosphere].\n",
    " */\n",
    "class GlobeActivity : AppCompatActivity() {\n",
    "\n",
    "  override fun onCreate(savedInstanceState: Bundle?) {\n",
    "    super.onCreate(savedInstanceState)\n",
    "    val mapView = MapView(this)\n",
    "    setContentView(mapView)\n",
    "\n",
    "    mapView.getMapboxMap().apply {\n",
    "      setCamera(\n",
    "        cameraOptions {\n",
    "          center(CENTER)\n",
    "          zoom(ZOOM)\n",
    "        }\n",
    "      )\n",
    "      loadStyle(\n",
    "        style(Style.SATELLITE_STREETS) {\n",
    "          +atmosphere { }\n",
    "          +projection(ProjectionName.GLOBE)\n",
    "        }\n",
    "      )\n",
    "    }\n",
    "  }\n",
    "\n",
    "  private companion object {\n",
    "    private const val ZOOM = 0.45\n",
    "    private val CENTER = Point.fromLngLat(30.0, 50.0)\n",
    "  }\n"
   ]
  },
  {
   "cell_type": "code",
   "execution_count": null,
   "metadata": {},
   "outputs": [],
   "source": []
  },
  {
   "cell_type": "code",
   "execution_count": null,
   "metadata": {},
   "outputs": [],
   "source": []
  }
 ],
 "metadata": {
  "kernelspec": {
   "display_name": "Python 3 (ipykernel)",
   "language": "python",
   "name": "python3"
  },
  "language_info": {
   "codemirror_mode": {
    "name": "ipython",
    "version": 3
   },
   "file_extension": ".py",
   "mimetype": "text/x-python",
   "name": "python",
   "nbconvert_exporter": "python",
   "pygments_lexer": "ipython3",
   "version": "3.10.6"
  }
 },
 "nbformat": 4,
 "nbformat_minor": 2
}
