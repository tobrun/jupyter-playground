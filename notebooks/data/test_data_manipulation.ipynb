{
 "cells": [
  {
   "attachments": {},
   "cell_type": "markdown",
   "metadata": {},
   "source": [
    "# This notebook is used to manipulate test data"
   ]
  },
  {
   "cell_type": "code",
   "execution_count": 6,
   "metadata": {},
   "outputs": [
    {
     "data": {
      "text/plain": [
       "{'id': 'nav_task_0',\n",
       " 'name': 'estimated_arrival_time',\n",
       " 'instruction': \"What's my ETA?\",\n",
       " 'instances': [{'input': '',\n",
       "   'output': 'Your estimated time of arrival is 15 minutes.'}],\n",
       " 'is_classification': False}"
      ]
     },
     "execution_count": 6,
     "metadata": {},
     "output_type": "execute_result"
    }
   ],
   "source": [
    "import requests\n",
    "import json\n",
    "\n",
    "# URL of the JSON file\n",
    "url = \"https://gist.githubusercontent.com/tobrun/c6fb087a9c3deb01ad4d41d55aa6be6b/raw/5d9bfb9166424c10cf26addc8925f33ec69f7a8b/gistfile1.txt\"\n",
    "\n",
    "# Send an HTTP GET request to the URL\n",
    "response = requests.get(url)\n",
    "data = []\n",
    "# Check if the request was successful (status code 200)\n",
    "if response.status_code == 200:\n",
    "    # Split the response text into individual JSON objects\n",
    "    json_objects = response.text.split(\"\\n\")\n",
    "    # Process each JSON object\n",
    "    for json_str in json_objects:\n",
    "        # Skip empty lines\n",
    "        if not json_str:\n",
    "            continue\n",
    "        # Parse the JSON object\n",
    "        data.append(json.loads(json_str))\n",
    "\n",
    "data[0]"
   ]
  },
  {
   "attachments": {},
   "cell_type": "markdown",
   "metadata": {},
   "source": [
    "Now that we have a list of JSON objects lets convert that a single JSON array:"
   ]
  },
  {
   "cell_type": "code",
   "execution_count": 7,
   "metadata": {},
   "outputs": [
    {
     "data": {
      "text/plain": [
       "{'id': 'nav_task_0',\n",
       " 'name': 'estimated_arrival_time',\n",
       " 'instruction': \"What's my ETA?\",\n",
       " 'instances': [{'input': '',\n",
       "   'output': 'Your estimated time of arrival is 15 minutes.'}],\n",
       " 'is_classification': False}"
      ]
     },
     "execution_count": 7,
     "metadata": {},
     "output_type": "execute_result"
    }
   ],
   "source": [
    "json_string = json.dumps(data)\n",
    "json_array = json.loads(json_string)\n",
    "json_array[0]"
   ]
  },
  {
   "attachments": {},
   "cell_type": "markdown",
   "metadata": {},
   "source": [
    "For each entry, let's add an indication that it's an expected result:\n",
    "\n",
    "```\n",
    "\"is_correct\": true\n",
    "```"
   ]
  },
  {
   "cell_type": "code",
   "execution_count": 8,
   "metadata": {},
   "outputs": [
    {
     "data": {
      "text/plain": [
       "{'id': 'nav_task_0',\n",
       " 'name': 'estimated_arrival_time',\n",
       " 'instruction': \"What's my ETA?\",\n",
       " 'instances': [{'input': '',\n",
       "   'output': 'Your estimated time of arrival is 15 minutes.',\n",
       "   'is_correct': True}],\n",
       " 'is_classification': False}"
      ]
     },
     "execution_count": 8,
     "metadata": {},
     "output_type": "execute_result"
    }
   ],
   "source": [
    "for json_object in json_array:\n",
    "    json_object['instances'][0]['is_correct'] = True\n",
    "    \n",
    "json_array[0]    "
   ]
  },
  {
   "attachments": {},
   "cell_type": "markdown",
   "metadata": {},
   "source": [
    "For each entry, let's move the instuction to be `input` of instances."
   ]
  },
  {
   "cell_type": "code",
   "execution_count": 9,
   "metadata": {},
   "outputs": [
    {
     "data": {
      "text/plain": [
       "{'id': 'nav_task_1',\n",
       " 'name': 'faster_route',\n",
       " 'instances': [{'input': 'Can you find a faster route?',\n",
       "   'output': \"I'm calculating alternative routes. The fastest route saves 3 minutes but has heavy traffic. Would you like to switch to this route?\",\n",
       "   'is_correct': True}],\n",
       " 'is_classification': False}"
      ]
     },
     "execution_count": 9,
     "metadata": {},
     "output_type": "execute_result"
    }
   ],
   "source": [
    "for json_object in json_array:\n",
    "    if not json_object['instances'][0]['input']:\n",
    "        json_object['instances'][0]['input'] = json_object['instruction']\n",
    "        del json_object['instruction']\n",
    "    \n",
    "json_array[1]  "
   ]
  },
  {
   "attachments": {},
   "cell_type": "markdown",
   "metadata": {},
   "source": [
    "For entries that have an instruction, let move that to input, switch input to be output, switch output to be context"
   ]
  },
  {
   "cell_type": "code",
   "execution_count": 10,
   "metadata": {},
   "outputs": [],
   "source": [
    "for json_object in json_array:\n",
    "    if 'instruction' in json_object:\n",
    "        instruction = json_object['instruction']\n",
    "        input = json_object['instances'][0]['input'] \n",
    "        output = json_object['instances'][0]['output'] \n",
    "        \n",
    "        json_object['instances'][0]['input'] = instruction\n",
    "        json_object['instances'][0]['context'] = output\n",
    "        json_object['instances'][0]['output'] = input        \n",
    "        del json_object['instruction']"
   ]
  },
  {
   "attachments": {},
   "cell_type": "markdown",
   "metadata": {},
   "source": [
    "Lets dump the result to a file:"
   ]
  },
  {
   "cell_type": "code",
   "execution_count": 11,
   "metadata": {},
   "outputs": [],
   "source": [
    "with open('../../build/prior_art.json', 'w') as f:\n",
    "    json.dump(json_array, f, indent=4)\n"
   ]
  },
  {
   "cell_type": "code",
   "execution_count": null,
   "metadata": {},
   "outputs": [],
   "source": []
  }
 ],
 "metadata": {
  "kernelspec": {
   "display_name": "tf",
   "language": "python",
   "name": "python3"
  },
  "language_info": {
   "codemirror_mode": {
    "name": "ipython",
    "version": 3
   },
   "file_extension": ".py",
   "mimetype": "text/x-python",
   "name": "python",
   "nbconvert_exporter": "python",
   "pygments_lexer": "ipython3",
   "version": "3.9.16"
  },
  "orig_nbformat": 4
 },
 "nbformat": 4,
 "nbformat_minor": 2
}
