{
 "cells": [
  {
   "attachments": {},
   "cell_type": "markdown",
   "metadata": {},
   "source": [
    "For each JSON file in /res, append"
   ]
  },
  {
   "cell_type": "code",
   "execution_count": 128,
   "metadata": {},
   "outputs": [
    {
     "data": {
      "text/plain": [
       "{'id': 'nav_task_258',\n",
       " 'name': 'provide_safety_alerts',\n",
       " 'instances': [{'input': 'Is my driving ok?',\n",
       "   'context': 'The assistant has detected sudden acceleration and deceleration over the past 15 minutes.',\n",
       "   'output': 'Your driving appears to be a bit abrupt with sudden acceleration and deceleration. Try to maintain a consistent speed for a smoother and safer drive.',\n",
       "   'is_correct': True},\n",
       "  {'input': 'Do I need to check my vehicle?',\n",
       "   'context': 'The assistant has detected a low coolant warning.',\n",
       "   'output': \"Yes, your car's coolant seems to be low. It's recommended to check and top off your coolant as needed.\",\n",
       "   'is_correct': True},\n",
       "  {'input': 'Am I driving too fast?',\n",
       "   'context': 'The assistant has noticed the driver is currently going 55 mph in a 45 mph zone.',\n",
       "   'output': 'Yes, you are currently exceeding the speed limit. Please slow down to the designated speed limit of 45 mph.',\n",
       "   'is_correct': True},\n",
       "  {'input': 'Is there anything wrong with my car?',\n",
       "   'context': 'The assistant has not detected any issues over the past 20 minutes.',\n",
       "   'output': \"No issues detected with your car. You're good to continue driving.\",\n",
       "   'is_correct': True},\n",
       "  {'input': 'Are my fog lights on?',\n",
       "   'context': \"The assistant has detected that the car's fog lights are turned off.\",\n",
       "   'output': 'No, your fog lights are currently turned off. If visibility is poor, it would be a good idea to turn them on.',\n",
       "   'is_correct': True},\n",
       "  {'input': 'How am I driving?',\n",
       "   'context': 'The assistant has detected excessive lane switching over the past 10 minutes.',\n",
       "   'output': 'Your driving seems a bit erratic with excessive lane switching. Try to stay in your lane and only change when necessary for safety.',\n",
       "   'is_correct': True},\n",
       "  {'input': 'Is there something wrong with my vehicle?',\n",
       "   'context': 'The assistant has detected a low fuel warning.',\n",
       "   'output': \"Yes, your fuel level is low. It's recommended to refuel your vehicle soon.\",\n",
       "   'is_correct': True},\n",
       "  {'input': 'Is my speed alright?',\n",
       "   'context': 'The assistant has noticed the driver is currently going 70 mph in a 70 mph zone.',\n",
       "   'output': \"You need to slow down, you're speeding.\",\n",
       "   'is_correct': False},\n",
       "  {'input': 'Any problems with my car?',\n",
       "   'context': 'The assistant has detected a low washer fluid warning.',\n",
       "   'output': \"No, there don't appear to be any issues with your car at the moment.\",\n",
       "   'is_correct': False},\n",
       "  {'input': 'Are my tail lights working?',\n",
       "   'context': \"The assistant has detected that the car's tail lights are functioning correctly.\",\n",
       "   'output': 'No, your tail lights are not working.',\n",
       "   'is_correct': False}],\n",
       " 'is_classification': False}"
      ]
     },
     "execution_count": 128,
     "metadata": {},
     "output_type": "execute_result"
    }
   ],
   "source": [
    "import os\n",
    "import json \n",
    "\n",
    "directory_path = 'res'\n",
    "\n",
    "json_array = []\n",
    "for file_name in os.listdir(directory_path):\n",
    "    file_path = os.path.join(directory_path, file_name)\n",
    "        \n",
    "    if os.path.isfile(file_path) and file_name.endswith('.json'):\n",
    "        with open(file_path, 'r') as file:\n",
    "            json_array.extend(json.load(file))\n",
    "\n",
    "json_array[-1]"
   ]
  },
  {
   "attachments": {},
   "cell_type": "markdown",
   "metadata": {},
   "source": [
    "Count all the instances"
   ]
  },
  {
   "cell_type": "code",
   "execution_count": 129,
   "metadata": {},
   "outputs": [
    {
     "data": {
      "text/plain": [
       "1194"
      ]
     },
     "execution_count": 129,
     "metadata": {},
     "output_type": "execute_result"
    }
   ],
   "source": [
    "instances_count = sum(len(item[\"instances\"]) for item in json_array)\n",
    "instances_count"
   ]
  },
  {
   "attachments": {},
   "cell_type": "markdown",
   "metadata": {},
   "source": [
    "Refresh the id on all entries"
   ]
  },
  {
   "cell_type": "code",
   "execution_count": 130,
   "metadata": {},
   "outputs": [],
   "source": [
    "for i, item in enumerate(json_array):\n",
    "    item[\"id\"] = \"nav_task_\" + str(i)"
   ]
  },
  {
   "attachments": {},
   "cell_type": "markdown",
   "metadata": {},
   "source": [
    "Dump training data to a file:"
   ]
  },
  {
   "cell_type": "code",
   "execution_count": 131,
   "metadata": {},
   "outputs": [],
   "source": [
    "with open('training_data.jsonl', 'w') as f:\n",
    "    json.dump(json_array, f, indent=4)\n"
   ]
  }
 ],
 "metadata": {
  "kernelspec": {
   "display_name": "tf",
   "language": "python",
   "name": "python3"
  },
  "language_info": {
   "codemirror_mode": {
    "name": "ipython",
    "version": 3
   },
   "file_extension": ".py",
   "mimetype": "text/x-python",
   "name": "python",
   "nbconvert_exporter": "python",
   "pygments_lexer": "ipython3",
   "version": "3.9.16"
  },
  "orig_nbformat": 4
 },
 "nbformat": 4,
 "nbformat_minor": 2
}
